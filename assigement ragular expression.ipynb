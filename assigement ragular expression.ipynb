{
 "cells": [
  {
   "cell_type": "code",
   "execution_count": 2,
   "id": "5408a8d2",
   "metadata": {},
   "outputs": [],
   "source": [
    "import regex as re"
   ]
  },
  {
   "cell_type": "code",
   "execution_count": null,
   "id": "7017d78c",
   "metadata": {},
   "outputs": [],
   "source": [
    "1- Write a Python program to check that a string contains only a certain set of characters (in this case a-z, A-Z and 0-9)."
   ]
  },
  {
   "cell_type": "code",
   "execution_count": 4,
   "id": "d01b9e01",
   "metadata": {},
   "outputs": [
    {
     "name": "stdout",
     "output_type": "stream",
     "text": [
      "['5492']\n"
     ]
    }
   ],
   "source": [
    "pattern=\"[0-9]+\"\n",
    "matches=re.findall(pattern,'ryadav5492@gmail.com')\n",
    "print(matches)\n"
   ]
  },
  {
   "cell_type": "code",
   "execution_count": 6,
   "id": "a24ed100",
   "metadata": {},
   "outputs": [
    {
     "name": "stdout",
     "output_type": "stream",
     "text": [
      "['e', 'n', 'd', 'u', 'l', 'k', 'a', 'r', 't', 'o', 'o', 'k', 'u', 'p', 'c', 'r', 'i', 'c', 'k', 'e', 't', 'a', 't', 't', 'h', 'e', 'a', 'g', 'e', 'o', 'f', 'e', 'l', 'e', 'v', 'e', 'n']\n"
     ]
    }
   ],
   "source": [
    "string=\"Tendulkar took up cricket at the age of eleven\"\n",
    "y=re.findall(\"[a-z]\",string)\n",
    "print(y)"
   ]
  },
  {
   "cell_type": "code",
   "execution_count": 10,
   "id": "1d6db6d5",
   "metadata": {},
   "outputs": [
    {
     "name": "stdout",
     "output_type": "stream",
     "text": [
      "['e', 'n', 'd', 'u', 'l', 'k', 'a', 'r', 't', 'o', 'o', 'k', 'u', 'p', 'c', 'r', 'i', 'c', 'k', 'e', 't', 'a', 't', 't', 'h', 'e', 'a', 'g', 'e', 'o', 'f', 'e', 'l', 'e', 'v', 'e', 'n']\n"
     ]
    }
   ],
   "source": [
    "string1=\"Tendulkar took up cricket at the age of 11\"\n",
    "x=re.findall(\"[A-Z]\",string1)\n",
    "print(y)"
   ]
  },
  {
   "cell_type": "code",
   "execution_count": 3,
   "id": "feedb425",
   "metadata": {},
   "outputs": [
    {
     "name": "stdout",
     "output_type": "stream",
     "text": [
      "not match\n",
      "match\n"
     ]
    }
   ],
   "source": [
    "  #2 Create a function in python that matches a string that has an a followed by zero or more b's   \n",
    "import re\n",
    "def string(text):\n",
    "    patterns=\"^a(b*)$\"\n",
    "    if re.search(patterns,text):\n",
    "        return('match')\n",
    "    else:\n",
    "        return('not match')\n",
    "print(string(\"ac\"))\n",
    "print(string(\"ab\"))\n"
   ]
  },
  {
   "cell_type": "code",
   "execution_count": 9,
   "id": "da0a8a2a",
   "metadata": {},
   "outputs": [
    {
     "name": "stdout",
     "output_type": "stream",
     "text": [
      "<regex.Match object; span=(0, 2), match='ab'>\n"
     ]
    }
   ],
   "source": [
    "#3 Create a function in python that matches a string that has an a followed by one or more b's     \n",
    "text=['ab',\n",
    "       'abc']\n",
    "for text in text:\n",
    "    search=re.search('ab',text)\n",
    "print(search)"
   ]
  },
  {
   "cell_type": "code",
   "execution_count": 13,
   "id": "24251fd1",
   "metadata": {},
   "outputs": [
    {
     "name": "stdout",
     "output_type": "stream",
     "text": [
      "<regex.Match object; span=(1, 3), match='ab'>\n"
     ]
    }
   ],
   "source": [
    "# 4 Create a function in Python and use RegEx that matches a string that has an a followed by zero or one 'b'.\n",
    "text=['ab',\n",
    "      'abc',\n",
    "      'abbc',\n",
    "      'aabbc']\n",
    "for text in text:\n",
    "    search=re.search('ab',text)\n",
    "print(search)"
   ]
  },
  {
   "cell_type": "code",
   "execution_count": 14,
   "id": "f7c04d26",
   "metadata": {},
   "outputs": [
    {
     "name": "stdout",
     "output_type": "stream",
     "text": [
      "<regex.Match object; span=(0, 4), match='abbb'>\n"
     ]
    }
   ],
   "source": [
    "# 5 Write a Python program that matches a string that has an a followed by three 'b'.\n",
    "text=['ab',\n",
    "      'abbbc',\n",
    "      'abbbc']\n",
    "for text in text:\n",
    "    search=re.search('abbb',text)\n",
    "print(search)"
   ]
  },
  {
   "cell_type": "code",
   "execution_count": 24,
   "id": "02a254ff",
   "metadata": {},
   "outputs": [
    {
     "name": "stdout",
     "output_type": "stream",
     "text": [
      "['Importance', 'Of', 'Regular', 'Expressions', 'In', 'Python']\n"
     ]
    }
   ],
   "source": [
    "#6)Write a regular expression in Python to split a string into uppercase letters.\n",
    "#Sample text: “ImportanceOfRegularExpressionsInPython”\n",
    "#Output: [‘Importance’, ‘Of’, ‘Regular’, ‘Expression’, ‘In’, ‘Python’]\n",
    "\n",
    "\n",
    "\n",
    "text=\"ImportanceOfRegularExpressionsInPython\"\n",
    "x=re.findall('[A-Z][^A-Z]*', text)\n",
    "\n",
    "print(x)"
   ]
  },
  {
   "cell_type": "code",
   "execution_count": 26,
   "id": "ac5573ec",
   "metadata": {},
   "outputs": [
    {
     "name": "stdout",
     "output_type": "stream",
     "text": [
      "found not match\n",
      "found match\n"
     ]
    }
   ],
   "source": [
    "#7 Write a Python program that matches a string that has an a followed by two to three 'b'.\n",
    "def text_match(text):\n",
    "    pattern=\"ab{2,3}\"\n",
    "    if re.search(pattern,text):\n",
    "        return('found match')\n",
    "    else:\n",
    "        return('found not match')\n",
    "print(text_match('ab'))\n",
    "print(text_match('abbbc'))"
   ]
  },
  {
   "cell_type": "code",
   "execution_count": 3,
   "id": "16680439",
   "metadata": {},
   "outputs": [
    {
     "name": "stdout",
     "output_type": "stream",
     "text": [
      "match not found\n",
      "match not found\n",
      "match not found\n"
     ]
    }
   ],
   "source": [
    "#8 Write a Python program to find sequences of lowercase letters joined with a underscore\n",
    "def text_match(text):\n",
    "    pattern='^[A-Z]+[a-z]+$'\n",
    "    if re.search(pattern,text):\n",
    "        return('match found')\n",
    "    else:\n",
    "        return('match not found')\n",
    "print(text_match('aabbc_abbc'))\n",
    "print(text_match('aabc_Aabc'))\n",
    "print(text_match('aab_aac'))"
   ]
  },
  {
   "cell_type": "code",
   "execution_count": 5,
   "id": "0713f2a4",
   "metadata": {},
   "outputs": [
    {
     "name": "stdout",
     "output_type": "stream",
     "text": [
      "not match\n",
      "match\n",
      "match\n"
     ]
    }
   ],
   "source": [
    "Write a Pyt#9 hon program that matches a string that has an 'a' followed by anything, ending in 'b'.\n",
    "def text_string(text):\n",
    "    pattern='a.*?b$'\n",
    "    if re.search(pattern,text):\n",
    "        return('match')\n",
    "    else:\n",
    "        return('not match')\n",
    "        \n",
    "print(text_string('abbcd'))\n",
    "print(text_string('accb'))\n",
    "print(text_string('accbb'))\n",
    "    "
   ]
  },
  {
   "cell_type": "code",
   "execution_count": 11,
   "id": "221de141",
   "metadata": {},
   "outputs": [
    {
     "name": "stdout",
     "output_type": "stream",
     "text": [
      "andrew\n"
     ]
    }
   ],
   "source": [
    "#10 - Write a Python program that matches a word at the beginning of a string.\n",
    "\n",
    "x=\"andrew flintoff was a good all rounder\"\n",
    "result=re.search(r'^\\w+',x)\n",
    "print(result.group())"
   ]
  },
  {
   "cell_type": "code",
   "execution_count": 13,
   "id": "83fc63e2",
   "metadata": {},
   "outputs": [
    {
     "name": "stdout",
     "output_type": "stream",
     "text": [
      "<regex.Match object; span=(0, 12), match='Ramny_yad_33'>\n"
     ]
    }
   ],
   "source": [
    "#11 Write a Python program to match a string that contains only upper and lowercase letters, numbers, and underscores.\n",
    "pattern=\"^[A-Za-z0-9_-]*$\"\n",
    "string='Ramny_yad_33'\n",
    "sentense=re.match(pattern,string)\n",
    "print(sentense)"
   ]
  },
  {
   "cell_type": "code",
   "execution_count": 16,
   "id": "b082e3b8",
   "metadata": {},
   "outputs": [
    {
     "name": "stdout",
     "output_type": "stream",
     "text": [
      "['6']\n"
     ]
    }
   ],
   "source": [
    "#12 Write a Python program where a string will start with a specific number. \n",
    "pattern=(r\"^6\")\n",
    "string='6-14578'\n",
    "sentense=re.findall(pattern,string)\n",
    "print(sentense)"
   ]
  },
  {
   "cell_type": "code",
   "execution_count": 4,
   "id": "61acae1a",
   "metadata": {},
   "outputs": [
    {
     "name": "stdout",
     "output_type": "stream",
     "text": [
      "471.8.45.12.\n"
     ]
    }
   ],
   "source": [
    "#13 Write a Python program to remove leading zeros from an IP address\n",
    "ip=\"471.08.045.12.\"\n",
    "string=re.sub('\\.[0]*','.',ip)\n",
    "print(string)"
   ]
  },
  {
   "cell_type": "code",
   "execution_count": 18,
   "id": "d5febd48",
   "metadata": {},
   "outputs": [],
   "source": [
    "# 14 Write a regular expression in python to match a date string in the form of Month name followed by day number and year stored in a text file.\n",
    "a=open(r'C:\\Users\\USER\\Desktop\\born.txt.txt',\"r\")\n",
    "content=a.read()\n",
    "pattern=\"\\d{2}[/-]\\d{2}[/-]\\d{4}\"\n",
    "dates=re.findall(pattern,content)\n",
    "\n"
   ]
  },
  {
   "cell_type": "code",
   "execution_count": null,
   "id": "beab9d43",
   "metadata": {},
   "outputs": [],
   "source": []
  },
  {
   "cell_type": "code",
   "execution_count": 10,
   "id": "7ba5db0e",
   "metadata": {},
   "outputs": [
    {
     "name": "stdout",
     "output_type": "stream",
     "text": [
      "searching for \"fox\" in \"The quick brown fox jumps over the lazy dog\" ->\n",
      "matched\n",
      "searching for \"dog\" in \"The quick brown fox jumps over the lazy dog\" ->\n",
      "matched\n",
      "searching for \"horse\" in \"The quick brown fox jumps over the lazy dog\" ->\n",
      "not matched\n"
     ]
    }
   ],
   "source": [
    "#15 - Write a Python program to search some literals strings in a string. Go to the editor\n",
    "patterns=['fox','dog','horse']\n",
    "text= 'The quick brown fox jumps over the lazy dog'\n",
    "for pattern in patterns:\n",
    "    print('searching for \"%s\" in \"%s\" ->' %(pattern,text),)\n",
    "    if re.search(pattern,text):\n",
    "        print('matched')\n",
    "    else:\n",
    "        print('not matched')\n"
   ]
  },
  {
   "cell_type": "code",
   "execution_count": 14,
   "id": "b062b242",
   "metadata": {},
   "outputs": [
    {
     "name": "stdout",
     "output_type": "stream",
     "text": [
      "found\"fox\" in The quick brown fox jumps over the lazy dog\" from 16 to 19\n"
     ]
    }
   ],
   "source": [
    "#16 Write a Python program to search a literals string in a string and also find the location within the original string where the pattern occurs\n",
    "#Sample text : 'The quick brown fox jumps over the lazy dog.'\n",
    "#Searched words : 'fox'\n",
    "pattern='fox'\n",
    "text='The quick brown fox jumps over the lazy dog'\n",
    "match=re.search(pattern,text)\n",
    "s=match.start()\n",
    "e=match.end()\n",
    "print('found\"%s\" in ''%s\" from %d to %d'% \\\n",
    "      (match.re.pattern,match.string,s,e))\n"
   ]
  },
  {
   "cell_type": "code",
   "execution_count": 19,
   "id": "5208a0ab",
   "metadata": {},
   "outputs": [
    {
     "name": "stdout",
     "output_type": "stream",
     "text": [
      "\"exercise\"\n",
      "\"exercise\"\n",
      "\"exercise\"\n"
     ]
    }
   ],
   "source": [
    "17# Write a Python program to find the substrings within a string.\n",
    "#Sample text : 'Python exercises, PHP exercises, C# exercises'\n",
    "#Pattern : 'exercises'.\n",
    "pattern='exercise'\n",
    "text='Python exercises, PHP exercises, C# exercises'\n",
    "for match in re.findall(pattern,text):\n",
    "    print('\"%s\"'% match)\n"
   ]
  },
  {
   "cell_type": "code",
   "execution_count": 24,
   "id": "12183730",
   "metadata": {},
   "outputs": [
    {
     "name": "stdout",
     "output_type": "stream",
     "text": [
      "found \"exercises\" at 36:45\n"
     ]
    }
   ],
   "source": [
    "#18 Write a Python program to find the occurrence and position of the substrings within a string.\n",
    "text='Python exercises, PHP exercises, C# exercises'\n",
    "pattern='exercises'\n",
    "for match in re.finditer(pattern,text):\n",
    "    s=match.start()\n",
    "    e=match.end()\n",
    "print('found \"%s\" at %d:%d' % (text[s:e],s,e))"
   ]
  },
  {
   "cell_type": "code",
   "execution_count": 27,
   "id": "a0c0dd36",
   "metadata": {},
   "outputs": [
    {
     "name": "stdout",
     "output_type": "stream",
     "text": [
      "10-11-2023\n"
     ]
    }
   ],
   "source": [
    "#Question 19- Write a Python program to convert a date of yyyy-mm-dd format to dd-mm-yyyy format.\n",
    "y='2022-11-10'\n",
    "z=r\"[oe]\"\n",
    "text='2022-11-10'\n",
    "replace_text=re.sub(y,'10-11-2023',text)\n",
    "print(replace_text)"
   ]
  },
  {
   "cell_type": "code",
   "execution_count": 6,
   "id": "d0b14694",
   "metadata": {},
   "outputs": [
    {
     "name": "stdout",
     "output_type": "stream",
     "text": [
      "['e ', 'e ', 'a ', 'e ', 'e ', 'e ']\n"
     ]
    }
   ],
   "source": [
    "#20 Write a Python program to find all words starting with 'a' or 'e' in a given string.\n",
    "target_string=\"The following example creates an ArrayList with a capacity of 50 elements. Four elements are then added to the ArrayList and the ArrayList is trimmed accordingly.\"\n",
    "result=re.findall(\"[ae]\\W+\",target_string)\n",
    "print(result)"
   ]
  },
  {
   "cell_type": "code",
   "execution_count": 12,
   "id": "1da2e9b8",
   "metadata": {},
   "outputs": [
    {
     "name": "stdout",
     "output_type": "stream",
     "text": [
      "2000\n",
      "index position: 86\n",
      "2017\n",
      "index position: 95\n"
     ]
    }
   ],
   "source": [
    "#21 - Write a Python program to separate and print the numbers and their position of a given string.\n",
    "\n",
    "import re\n",
    "text=\"Yuvraj was a member of the Indian cricket team  One Day Internationals (ODIs) between 2000 and 2017 and played his first Test match\" \n",
    "for m in re.finditer(\"\\d+\",text):\n",
    "    print(m.group(0))\n",
    "    print(\"index position:\",m.start())\n"
   ]
  },
  {
   "cell_type": "code",
   "execution_count": 20,
   "id": "01d94836",
   "metadata": {},
   "outputs": [
    {
     "name": "stdout",
     "output_type": "stream",
     "text": [
      "3\n"
     ]
    }
   ],
   "source": [
    "#22 Write a regular expression in python program to extract maximum numeric value from a string\n",
    "\n",
    "number=re.findall(\"\\d\", \"the sixth most populous metropolitan area in the world with a population of over 23000012 (2.3 crore) living under\")\n",
    "number_list=map(int,number)\n",
    "print(max(number_list))\n"
   ]
  },
  {
   "cell_type": "code",
   "execution_count": 32,
   "id": "dd9c0b0a",
   "metadata": {},
   "outputs": [
    {
     "name": "stdout",
     "output_type": "stream",
     "text": [
      "Hello Good Morning\n"
     ]
    }
   ],
   "source": [
    "# 23 Write a Regex in Python to put spaces between words starting with capital letters\n",
    "string='  HelloGoodMorning'\n",
    "res=re.findall(\"[A-Z][a-z]*\",string)\n",
    "print(' '.join(res))\n",
    "                  \n"
   ]
  },
  {
   "cell_type": "code",
   "execution_count": 39,
   "id": "b7f03aa2",
   "metadata": {},
   "outputs": [
    {
     "name": "stdout",
     "output_type": "stream",
     "text": [
      "found match\n",
      "found match\n",
      "found match\n",
      "not match\n"
     ]
    }
   ],
   "source": [
    "# 24 Python regex to find sequences of one upper case letter followed by lower case letters\n",
    "def text_match(text):\n",
    "    patterns=\"[A-a]+[a-z]+$\"\n",
    "    if re.search(patterns,text):\n",
    "        return('found match')\n",
    "    else:\n",
    "        return('not match')\n",
    "    \n",
    "\n",
    "print(text_match('Python'))\n",
    "print(text_match('java'))\n",
    "print(text_match('Html')) \n",
    "print(text_match('PYTHON'))"
   ]
  },
  {
   "cell_type": "code",
   "execution_count": 48,
   "id": "8aca2ac7",
   "metadata": {},
   "outputs": [
    {
     "name": "stdout",
     "output_type": "stream",
     "text": [
      "hello hello good morning\n"
     ]
    }
   ],
   "source": [
    "# 25 Write a Python program to remove duplicate words from Sentence using Regular Expression\n",
    "import regex as re\n",
    "string='hello hello good morning'\n",
    "regex=r'\\b(w+)(?:\\W+\\1\\b)+'\n",
    "x=re.sub(regex,r'\\1',string, flags=re.IGNORECASE)\n",
    " \n",
    "print(x)\n",
    "         "
   ]
  },
  {
   "cell_type": "code",
   "execution_count": 54,
   "id": "3114e593",
   "metadata": {},
   "outputs": [
    {
     "name": "stdout",
     "output_type": "stream",
     "text": [
      "The string ends with alphanumeric character\n",
      "The string ends with alphanumeric character\n"
     ]
    }
   ],
   "source": [
    "#26 Write a python program using RegEx to accept string ending with alphanumeric character\n",
    "def chek_string(string):\n",
    "    pattern=\"[a-zA-z0-9]\"\n",
    "    \n",
    "    \n",
    "    if re.search(pattern,string):\n",
    "        return(\"The string ends with alphanumeric character\")\n",
    "\n",
    "    else:\n",
    "        return(\"The string doesnot end with alphanumeric character\")\n",
    "\n",
    "print(chek_string('ramnyada@'))\n",
    "print(chek_string('ramnyadav123'))\n",
    "        \n",
    "    "
   ]
  },
  {
   "cell_type": "code",
   "execution_count": 19,
   "id": "57d3cb81",
   "metadata": {},
   "outputs": [
    {
     "ename": "SyntaxError",
     "evalue": "(unicode error) 'unicodeescape' codec can't decode bytes in position 1-2: truncated \\UXXXXXXXX escape (2722308169.py, line 4)",
     "output_type": "error",
     "traceback": [
      "\u001b[1;36m  File \u001b[1;32m\"C:\\Users\\USER\\AppData\\Local\\Temp\\ipykernel_8368\\2722308169.py\"\u001b[1;36m, line \u001b[1;32m4\u001b[0m\n\u001b[1;33m    with open('r'':\\Users\\USER\\Desktop\\hastgg.txt.txt') as file:\u001b[0m\n\u001b[1;37m                                                      ^\u001b[0m\n\u001b[1;31mSyntaxError\u001b[0m\u001b[1;31m:\u001b[0m (unicode error) 'unicodeescape' codec can't decode bytes in position 1-2: truncated \\UXXXXXXXX escape\n"
     ]
    }
   ],
   "source": [
    "  #27 Write a python program using RegEx to extract the hashtags.\n",
    "#Sample Text: text = \"\"\"RT @kapil_kausik: #Doltiwal I mean #xyzabc is \"hurt\" by #Demonetization as the same has rendered USELESS <ed><U+00A0><U+00BD><ed><U+00B1><U+0089> \"acquired funds\" No wo\"\"\"\n",
    "#Output: ['#Doltiwal', '#xyzabc', '#Demonetization']\n",
    "with open('r'':\\Users\\USER\\Desktop\\hastgg.txt.txt') as file:\n",
    "     for line in file:\n",
    "            pattern='[a-zA-Z0-9._%+-]+@[a-zA-Z0-9.]+\\[a-zA-z]{2,}'\n",
    "            url=re.findall(pattern,line)\n",
    "            print(url)"
   ]
  },
  {
   "cell_type": "code",
   "execution_count": null,
   "id": "bc13bc7b",
   "metadata": {},
   "outputs": [],
   "source": []
  },
  {
   "cell_type": "code",
   "execution_count": 20,
   "id": "cac06385",
   "metadata": {},
   "outputs": [
    {
     "ename": "FileNotFoundError",
     "evalue": "[Errno 2] No such file or directory: 'datee.text.text'",
     "output_type": "error",
     "traceback": [
      "\u001b[1;31m---------------------------------------------------------------------------\u001b[0m",
      "\u001b[1;31mFileNotFoundError\u001b[0m                         Traceback (most recent call last)",
      "\u001b[1;32m~\\AppData\\Local\\Temp\\ipykernel_8368\\4016151934.py\u001b[0m in \u001b[0;36m<module>\u001b[1;34m\u001b[0m\n\u001b[0;32m      1\u001b[0m \u001b[1;31m# 29- Write a python program to extract dates from the text stored in the text file.\u001b[0m\u001b[1;33m\u001b[0m\u001b[1;33m\u001b[0m\u001b[0m\n\u001b[1;32m----> 2\u001b[1;33m \u001b[1;32mwith\u001b[0m \u001b[0mopen\u001b[0m\u001b[1;33m(\u001b[0m\u001b[1;34m\"datee.text.text\"\u001b[0m\u001b[1;33m)\u001b[0m\u001b[1;32mas\u001b[0m \u001b[0mfile\u001b[0m\u001b[1;33m:\u001b[0m\u001b[1;33m\u001b[0m\u001b[1;33m\u001b[0m\u001b[0m\n\u001b[0m\u001b[0;32m      3\u001b[0m     \u001b[1;32mfor\u001b[0m \u001b[0mline\u001b[0m \u001b[1;32min\u001b[0m \u001b[0mfile\u001b[0m\u001b[1;33m:\u001b[0m\u001b[1;33m\u001b[0m\u001b[1;33m\u001b[0m\u001b[0m\n\u001b[0;32m      4\u001b[0m              \u001b[0mpattern\u001b[0m\u001b[1;33m=\u001b[0m\u001b[1;34mr'(\\d+/\\d+/\\d+)'\u001b[0m\u001b[1;33m\u001b[0m\u001b[1;33m\u001b[0m\u001b[0m\n\u001b[0;32m      5\u001b[0m              \u001b[0mdate\u001b[0m\u001b[1;33m=\u001b[0m\u001b[0mre\u001b[0m\u001b[1;33m.\u001b[0m\u001b[0mfindall\u001b[0m\u001b[1;33m(\u001b[0m\u001b[0mpattern\u001b[0m\u001b[1;33m,\u001b[0m\u001b[0mline\u001b[0m\u001b[1;33m)\u001b[0m\u001b[1;33m\u001b[0m\u001b[1;33m\u001b[0m\u001b[0m\n",
      "\u001b[1;31mFileNotFoundError\u001b[0m: [Errno 2] No such file or directory: 'datee.text.text'"
     ]
    }
   ],
   "source": [
    "# 29- Write a python program to extract dates from the text stored in the text file.\n",
    "with open(\"datee.text.text\")as file:\n",
    "    for line in file:\n",
    "             pattern=r'(\\d+/\\d+/\\d+)'\n",
    "             date=re.findall(pattern,line)\n",
    "             print(date)\n",
    "     \n",
    "          "
   ]
  },
  {
   "cell_type": "code",
   "execution_count": null,
   "id": "70a30eb6",
   "metadata": {},
   "outputs": [],
   "source": [
    "- #30Write a Python program to replace all occurrences of a space, comma, or dot with a colon.\n",
    "#Sample Text- 'Python Exercises, PHP exercises.'\n",
    "#Output: Python:Exercises::PHP:exercises:\n"
   ]
  },
  {
   "cell_type": "code",
   "execution_count": 24,
   "id": "2ce98292",
   "metadata": {},
   "outputs": [
    {
     "name": "stdout",
     "output_type": "stream",
     "text": [
      "Python Exercises: PHP exercises:\n"
     ]
    }
   ],
   "source": [
    "text='Python Exercises, PHP exercises.'\n",
    "print(re.sub(\"[,.]\",\":\",text))"
   ]
  },
  {
   "cell_type": "code",
   "execution_count": null,
   "id": "1ec488bb",
   "metadata": {},
   "outputs": [],
   "source": []
  }
 ],
 "metadata": {
  "kernelspec": {
   "display_name": "Python 3 (ipykernel)",
   "language": "python",
   "name": "python3"
  },
  "language_info": {
   "codemirror_mode": {
    "name": "ipython",
    "version": 3
   },
   "file_extension": ".py",
   "mimetype": "text/x-python",
   "name": "python",
   "nbconvert_exporter": "python",
   "pygments_lexer": "ipython3",
   "version": "3.9.13"
  }
 },
 "nbformat": 4,
 "nbformat_minor": 5
}
